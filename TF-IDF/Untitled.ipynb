{
 "cells": [
  {
   "cell_type": "code",
   "execution_count": 37,
   "metadata": {},
   "outputs": [
    {
     "name": "stdout",
     "output_type": "stream",
     "text": [
      "[\n",
      "    ['new', 'york', 'time'],\n",
      "    ['new', 'york', 'post'],\n",
      "    ['los', 'angles', 'time']\n",
      "]\n"
     ]
    }
   ],
   "source": [
    "from prettyprinter import pprint\n",
    "from gensim import corpora,similarities\n",
    "import gensim\n",
    "documents=[\"new york time\",\"new york post\",\"los angles time\"]\n",
    "\n",
    "tokenized_documents= [[token for token in document.lower().split()] for document in documents]\n",
    "pprint(tokenized_documents)"
   ]
  },
  {
   "cell_type": "code",
   "execution_count": 19,
   "metadata": {},
   "outputs": [
    {
     "name": "stdout",
     "output_type": "stream",
     "text": [
      "Dictionary(6 unique tokens: ['new', 'time', 'york', 'post', 'angles']...)\n",
      "3\n"
     ]
    }
   ],
   "source": [
    "dictionary = corpora.Dictionary(tokenized_documents)\n",
    "print(dictionary)\n",
    "pprint(dictionary.num_docs)"
   ]
  },
  {
   "cell_type": "code",
   "execution_count": 20,
   "metadata": {},
   "outputs": [
    {
     "name": "stdout",
     "output_type": "stream",
     "text": [
      "{'new': 0, 'time': 1, 'york': 2, 'post': 3, 'angles': 4, 'los': 5}\n",
      "\n",
      " Dictionary(6 unique tokens: ['new', 'time', 'york', 'post', 'angles']...)\n"
     ]
    }
   ],
   "source": [
    "print(dictionary.token2id)\n",
    "print(\"\\n\",dictionary)"
   ]
  },
  {
   "cell_type": "code",
   "execution_count": 21,
   "metadata": {},
   "outputs": [
    {
     "name": "stdout",
     "output_type": "stream",
     "text": [
      "[(0, 1), (1, 1), (2, 1)]\n",
      "[(0, 1), (2, 1), (3, 1)]\n",
      "[(1, 1), (4, 1), (5, 1)]\n"
     ]
    }
   ],
   "source": [
    "corpus_doc2bow_vectors=[dictionary.doc2bow(tok_doc) for tok_doc in tokenized_documents]\n",
    "\n",
    "for c in corpus_doc2bow_vectors:\n",
    "    print(c)"
   ]
  },
  {
   "cell_type": "code",
   "execution_count": 2,
   "metadata": {},
   "outputs": [
    {
     "name": "stdout",
     "output_type": "stream",
     "text": [
      "Wall time: 0 ns\n"
     ]
    },
    {
     "ename": "NameError",
     "evalue": "name 'corpus_doc2bow_vectors' is not defined",
     "output_type": "error",
     "traceback": [
      "\u001b[1;31m---------------------------------------------------------------------------\u001b[0m",
      "\u001b[1;31mNameError\u001b[0m                                 Traceback (most recent call last)",
      "\u001b[1;32m<ipython-input-2-40820551257b>\u001b[0m in \u001b[0;36m<module>\u001b[1;34m\u001b[0m\n\u001b[0;32m      4\u001b[0m \u001b[1;33m\u001b[0m\u001b[0m\n\u001b[0;32m      5\u001b[0m \u001b[0mget_ipython\u001b[0m\u001b[1;33m(\u001b[0m\u001b[1;33m)\u001b[0m\u001b[1;33m.\u001b[0m\u001b[0mrun_line_magic\u001b[0m\u001b[1;33m(\u001b[0m\u001b[1;34m'time'\u001b[0m\u001b[1;33m,\u001b[0m \u001b[1;34m' '\u001b[0m\u001b[1;33m)\u001b[0m\u001b[1;33m\u001b[0m\u001b[1;33m\u001b[0m\u001b[0m\n\u001b[1;32m----> 6\u001b[1;33m \u001b[0mtfidf_model\u001b[0m \u001b[1;33m=\u001b[0m \u001b[0mTfidfModel\u001b[0m\u001b[1;33m(\u001b[0m\u001b[0mcorpus_doc2bow_vectors\u001b[0m\u001b[1;33m,\u001b[0m\u001b[0mid2word\u001b[0m\u001b[1;33m=\u001b[0m\u001b[0mdictionary\u001b[0m\u001b[1;33m,\u001b[0m\u001b[0mnormalize\u001b[0m\u001b[1;33m=\u001b[0m\u001b[1;32mFalse\u001b[0m\u001b[1;33m)\u001b[0m\u001b[1;33m\u001b[0m\u001b[1;33m\u001b[0m\u001b[0m\n\u001b[0m\u001b[0;32m      7\u001b[0m \u001b[0mcorpus_tfidf_vector\u001b[0m\u001b[1;33m=\u001b[0m\u001b[0mtfidf_model\u001b[0m\u001b[1;33m[\u001b[0m\u001b[0mcorpus_doc2bow_vectors\u001b[0m\u001b[1;33m]\u001b[0m\u001b[1;33m\u001b[0m\u001b[1;33m\u001b[0m\u001b[0m\n\u001b[0;32m      8\u001b[0m \u001b[1;33m\u001b[0m\u001b[0m\n",
      "\u001b[1;31mNameError\u001b[0m: name 'corpus_doc2bow_vectors' is not defined"
     ]
    }
   ],
   "source": [
    "from gensim.models import TfidfModel\n",
    "from gensim.corpora import Dictionary\n",
    "\n",
    "\n",
    "%time  \n",
    "tfidf_model = TfidfModel(corpus_doc2bow_vectors,id2word=dictionary,normalize=False)\n",
    "corpus_tfidf_vector=tfidf_model[corpus_doc2bow_vectors]\n",
    "\n",
    "print(\"******TFIDF_vector of the three documents ******\")\n",
    "for doc in corpus_tfidf_vector:\n",
    "    print(doc)"
   ]
  },
  {
   "cell_type": "code",
   "execution_count": 3,
   "metadata": {},
   "outputs": [
    {
     "ename": "NameError",
     "evalue": "name 'dictionary' is not defined",
     "output_type": "error",
     "traceback": [
      "\u001b[1;31m---------------------------------------------------------------------------\u001b[0m",
      "\u001b[1;31mNameError\u001b[0m                                 Traceback (most recent call last)",
      "\u001b[1;32m<ipython-input-3-20b642910496>\u001b[0m in \u001b[0;36m<module>\u001b[1;34m\u001b[0m\n\u001b[0;32m      1\u001b[0m \u001b[1;31m#create a bow vector for new document for example a query\u001b[0m\u001b[1;33m\u001b[0m\u001b[1;33m\u001b[0m\u001b[1;33m\u001b[0m\u001b[0m\n\u001b[0;32m      2\u001b[0m \u001b[0mquery\u001b[0m \u001b[1;33m=\u001b[0m\u001b[1;34m\"new new time\"\u001b[0m\u001b[1;33m\u001b[0m\u001b[1;33m\u001b[0m\u001b[0m\n\u001b[1;32m----> 3\u001b[1;33m \u001b[0mquery_bow_vector\u001b[0m\u001b[1;33m=\u001b[0m\u001b[0mdictionary\u001b[0m\u001b[1;33m.\u001b[0m\u001b[0mdoc2bow\u001b[0m\u001b[1;33m(\u001b[0m\u001b[0mquery\u001b[0m\u001b[1;33m.\u001b[0m\u001b[0mlower\u001b[0m\u001b[1;33m(\u001b[0m\u001b[1;33m)\u001b[0m\u001b[1;33m.\u001b[0m\u001b[0msplit\u001b[0m\u001b[1;33m(\u001b[0m\u001b[1;33m)\u001b[0m\u001b[1;33m)\u001b[0m\u001b[1;33m\u001b[0m\u001b[1;33m\u001b[0m\u001b[0m\n\u001b[0m\u001b[0;32m      4\u001b[0m \u001b[1;33m\u001b[0m\u001b[0m\n\u001b[0;32m      5\u001b[0m \u001b[0mprint\u001b[0m\u001b[1;33m(\u001b[0m\u001b[0mquery_bow_vector\u001b[0m\u001b[1;33m)\u001b[0m\u001b[1;33m\u001b[0m\u001b[1;33m\u001b[0m\u001b[0m\n",
      "\u001b[1;31mNameError\u001b[0m: name 'dictionary' is not defined"
     ]
    }
   ],
   "source": [
    "#create a bow vector for new document for example a query\n",
    "query =\"new new time\"\n",
    "query_bow_vector=dictionary.doc2bow(query.lower().split())\n",
    "\n",
    "print(query_bow_vector)"
   ]
  },
  {
   "cell_type": "code",
   "execution_count": 57,
   "metadata": {},
   "outputs": [
    {
     "name": "stdout",
     "output_type": "stream",
     "text": [
      "[(0, 1.1699250014423124), (1, 0.5849625007211562)]\n"
     ]
    }
   ],
   "source": [
    "#clacul compoute tf-idf vector of the query\n",
    "query_tfidf_vector= tfidf_model[query_bow_vector]\n",
    "print(query_tfidf_vector)"
   ]
  },
  {
   "cell_type": "code",
   "execution_count": 82,
   "metadata": {},
   "outputs": [
    {
     "name": "stdout",
     "output_type": "stream",
     "text": [
      "[0.7745967  0.2926428  0.11292803]\n",
      "[(0, 0.7745967), (1, 0.2926428), (2, 0.112928025)]\n"
     ]
    }
   ],
   "source": [
    "\n",
    "#compute the cosine similarity between the query and the three documents \n",
    "index_matrix=similarities.SparseMatrixSimilarity(corpus_tfidf_vector,num_features=6)\n",
    "print(index_matrix[query_bow_vector])\n",
    "#and to query the similarity of our query vector against every document in\n",
    "\n",
    "sims =index_matrix[query_bow_vector]\n",
    "print(list(enumerate(sims)))"
   ]
  },
  {
   "cell_type": "code",
   "execution_count": 92,
   "metadata": {},
   "outputs": [
    {
     "name": "stdout",
     "output_type": "stream",
     "text": [
      "0 \t new york time \t new new time \t 0.7745967\n",
      "1 \t new york post \t new new time \t 0.2926428\n",
      "2 \t los angles time  new new time \t 0.112928025\n"
     ]
    }
   ],
   "source": [
    "for i in range(0,3):\n",
    "    \n",
    "    if i ==2:\n",
    "        print( i,\"\\t\",documents[i],\"\",query,\"\\t\",sims[i])\n",
    "        break\n",
    "    print( i,\"\\t\",documents[i],\"\\t\",query,\"\\t\",sims[i])\n"
   ]
  },
  {
   "cell_type": "code",
   "execution_count": null,
   "metadata": {},
   "outputs": [],
   "source": []
  },
  {
   "cell_type": "code",
   "execution_count": null,
   "metadata": {},
   "outputs": [],
   "source": []
  }
 ],
 "metadata": {
  "kernelspec": {
   "display_name": "Python 3",
   "language": "python",
   "name": "python3"
  },
  "language_info": {
   "codemirror_mode": {
    "name": "ipython",
    "version": 3
   },
   "file_extension": ".py",
   "mimetype": "text/x-python",
   "name": "python",
   "nbconvert_exporter": "python",
   "pygments_lexer": "ipython3",
   "version": "3.7.1"
  }
 },
 "nbformat": 4,
 "nbformat_minor": 2
}
