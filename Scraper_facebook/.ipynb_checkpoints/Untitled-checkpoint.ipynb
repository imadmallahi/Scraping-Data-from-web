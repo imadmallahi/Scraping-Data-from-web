{
 "cells": [
  {
   "cell_type": "code",
   "execution_count": 1,
   "metadata": {},
   "outputs": [],
   "source": [
    "import twitter\n",
    "import pandas as pd\n",
    "import numpy as np\n",
    "import datetime\n",
    "import sys\n",
    "import codecs\n",
    "import re\n",
    "import urllib\n",
    "import itertools, collections"
   ]
  },
  {
   "cell_type": "code",
   "execution_count": 3,
   "metadata": {},
   "outputs": [],
   "source": [
    "from scipy.spatial.distance import cosine\n",
    " \n",
    "from sklearn.cluster import KMeans\n",
    "from sklearn.metrics import pairwise_distances_argmin\n",
    "from sklearn.utils import shuffle\n",
    "import tweepy\n",
    "from tweepy import OAuthHandler\n",
    "from tweepy import Stream"
   ]
  },
  {
   "cell_type": "code",
   "execution_count": 4,
   "metadata": {},
   "outputs": [],
   "source": [
    "from collections import Counter  \n",
    "import string  \n",
    "import copy\n",
    "from itertools import product, tee, combinations, chain\n",
    "from operator import itemgetter # help with dataframes"
   ]
  },
  {
   "cell_type": "code",
   "execution_count": 5,
   "metadata": {},
   "outputs": [],
   "source": [
    "import nltk  \n",
    "from nltk.stem.wordnet import WordNetLemmatizer\n",
    "from nltk.corpus import stopwords \n",
    "from collections import Counter  "
   ]
  },
  {
   "cell_type": "code",
   "execution_count": 6,
   "metadata": {},
   "outputs": [
    {
     "ename": "NameError",
     "evalue": "name 'api' is not defined",
     "output_type": "error",
     "traceback": [
      "\u001b[1;31m---------------------------------------------------------------------------\u001b[0m",
      "\u001b[1;31mNameError\u001b[0m                                 Traceback (most recent call last)",
      "\u001b[1;32m<ipython-input-6-d377b09bdfca>\u001b[0m in \u001b[0;36m<module>\u001b[1;34m\u001b[0m\n\u001b[0;32m      7\u001b[0m \u001b[0mnum_tweets\u001b[0m \u001b[1;33m=\u001b[0m \u001b[1;36m500\u001b[0m\u001b[1;33m\u001b[0m\u001b[1;33m\u001b[0m\u001b[0m\n\u001b[0;32m      8\u001b[0m \u001b[1;33m\u001b[0m\u001b[0m\n\u001b[1;32m----> 9\u001b[1;33m \u001b[1;32mfor\u001b[0m \u001b[0mtweet\u001b[0m \u001b[1;32min\u001b[0m \u001b[0mtweepy\u001b[0m\u001b[1;33m.\u001b[0m\u001b[0mCursor\u001b[0m\u001b[1;33m(\u001b[0m\u001b[0mapi\u001b[0m\u001b[1;33m.\u001b[0m\u001b[0msearch\u001b[0m\u001b[1;33m,\u001b[0m \u001b[0mq\u001b[0m\u001b[1;33m=\u001b[0m\u001b[1;34m\"morocco,maroc,2018\"\u001b[0m\u001b[1;33m,\u001b[0m \u001b[0mlang\u001b[0m\u001b[1;33m=\u001b[0m\u001b[1;34m\"en\"\u001b[0m\u001b[1;33m,\u001b[0m\u001b[0msince\u001b[0m\u001b[1;33m=\u001b[0m\u001b[1;34m\"2018-10-01\"\u001b[0m\u001b[1;33m)\u001b[0m\u001b[1;33m.\u001b[0m\u001b[0mitems\u001b[0m\u001b[1;33m(\u001b[0m\u001b[0mnum_tweets\u001b[0m\u001b[1;33m)\u001b[0m\u001b[1;33m:\u001b[0m\u001b[1;33m\u001b[0m\u001b[1;33m\u001b[0m\u001b[0m\n\u001b[0m\u001b[0;32m     10\u001b[0m \u001b[1;33m\u001b[0m\u001b[0m\n\u001b[0;32m     11\u001b[0m     \u001b[0mlenDF\u001b[0m \u001b[1;33m=\u001b[0m \u001b[0mlen\u001b[0m\u001b[1;33m(\u001b[0m\u001b[0mtweetDF\u001b[0m\u001b[1;33m)\u001b[0m\u001b[1;33m\u001b[0m\u001b[1;33m\u001b[0m\u001b[0m\n",
      "\u001b[1;31mNameError\u001b[0m: name 'api' is not defined"
     ]
    }
   ],
   "source": [
    "encodingTot = sys.stdout.encoding or 'utf-8'\n",
    "columns = ['Screen_Name', 'Time_Stamp', 'Tweet']\n",
    "todays_date = datetime.datetime.now().date()\n",
    " \n",
    "tweetDF = pd.DataFrame(columns=columns)\n",
    " \n",
    "num_tweets = 500\n",
    "th = api.search('Artificial Intelligence', count=200)\n",
    " \n",
    "for tweet in tweepy.Cursor(th, q=\"morocco,maroc,2018\", lang=\"en\",since=\"2018-10-01\").items(num_tweets):\n",
    "     \n",
    "    lenDF = len(tweetDF)\n",
    " \n",
    "    tweetDF.loc[lenDF] = [tweet.user.screen_name, tweet.created_at, tweet.text]\n",
    "    \n",
    "tweetDF.to_csv(\"out.csv\", sep='\\t', encoding = 'utf-8')\n",
    " \n",
    "#tweetDF = pd.read_csv(open('C:\\Windows\\system32\\out.csv','rU'), sep='\\t', engine='c')\n",
    "tweetDF = pd.read_csv('out.csv', sep='\\t', engine='c')\n",
    "         \n",
    "tweetDF[\"Tweet\"].head()\n",
    "tweet_list_org = tweetDF['Tweet'].tolist() # convert DF to list (tweets only) NOT a nested list\n",
    "emoticons_str = r\"\"\"\n",
    "    (?:\n",
    "        [:=;] # Eyes\n",
    "        [oO\\-]? # Nose (optional)\n",
    "        [D\\)\\]\\(\\]/\\\\OpP] # Mouth\n",
    "    )\"\"\"\n",
    "regex_str = [\n",
    "     \n",
    "    r'<[^>]+>', # HTML tags\n",
    "    r'(?:@[\\w_]+)', # @-signs\n",
    "    r\"(?:\\#+[\\w_]+[\\w\\'_\\-]*[\\w_]+)\", # hash-tags\n",
    "    r'http[s]?://(?:[a-z]|[0-9]|[$-_@.&+]|[!*\\(\\),]|(?:%[0-9a-f][0-9a-f]))+', # URLs \n",
    "    r'(?:(?:\\d+,?)+(?:\\.?\\d+)?)', # numbers\n",
    "    r\"(?:[a-z][a-z'\\-_]+[a-z])\", # words with - and '\n",
    "    r'(?:[\\w_]+)' # other words\n",
    "]\n",
    "numbers = r'(?:(?:\\d+,?)+(?:\\.?\\d+)?)'\n",
    "URL = r'http[s]?://(?:[a-z]|[0-9]|[$-_@.&+]|[!*\\(\\),]|(?:%[0-9a-f][0-9a-f]))+'\n",
    "html_tag = r'<[^>]+>'\n",
    "hash_tag = r\"(?:\\#+[\\w_]+[\\w\\'_\\-]*[\\w_]+)\"\n",
    "at_sign = r'(?:@[\\w_]+)'\n",
    "dash_quote = r\"(?:[a-z][a-z'\\-_]+[a-z])\"\n",
    "other_word = r'(?:[\\w_]+)'\n",
    "other_stuff = r'(?:\\S)' # anything else - NOT USED\n",
    "start_pound = r\"([#?])(\\w+)\" # Start with #\n",
    "start_quest_pound = r\"(?:^|\\s)([#?])(\\w+)\" # Start with ? or with #\n",
    "cont_number = r'(\\w*\\d\\w*)' # Words containing numbers\n",
    "sq_br_f = r'(?:[[\\w_]+)' # removes '['\n",
    "sq_br_b = r'(?:][\\w_]+)' # removes ']'\n",
    " \n",
    "rem_bracket = r'(' + '|'.join([sq_br_f, sq_br_b]) +')'\n",
    "rem_bracketC = re.compile(rem_bracket, re.VERBOSE)\n",
    " \n"
   ]
  },
  {
   "cell_type": "code",
   "execution_count": null,
   "metadata": {},
   "outputs": [],
   "source": []
  }
 ],
 "metadata": {
  "kernelspec": {
   "display_name": "Python 3",
   "language": "python",
   "name": "python3"
  },
  "language_info": {
   "codemirror_mode": {
    "name": "ipython",
    "version": 3
   },
   "file_extension": ".py",
   "mimetype": "text/x-python",
   "name": "python",
   "nbconvert_exporter": "python",
   "pygments_lexer": "ipython3",
   "version": "3.7.1"
  }
 },
 "nbformat": 4,
 "nbformat_minor": 2
}
