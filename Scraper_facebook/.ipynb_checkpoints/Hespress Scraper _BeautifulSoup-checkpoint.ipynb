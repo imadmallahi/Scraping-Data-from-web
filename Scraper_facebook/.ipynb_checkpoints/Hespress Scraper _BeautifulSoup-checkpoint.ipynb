{
 "cells": [
  {
   "cell_type": "markdown",
   "metadata": {},
   "source": [
    "# import\n"
   ]
  },
  {
   "cell_type": "code",
   "execution_count": null,
   "metadata": {},
   "outputs": [],
   "source": [
    "from bs4 import BeautifulSoup\n",
    "import requests\n",
    "import re\n",
    "from pandas import DataFrame\n",
    "import pandas as pd"
   ]
  },
  {
   "cell_type": "markdown",
   "metadata": {},
   "source": [
    "# Collect of data"
   ]
  },
  {
   "cell_type": "code",
   "execution_count": 2,
   "metadata": {},
   "outputs": [
    {
     "name": "stdout",
     "output_type": "stream",
     "text": [
      "i : 9\n",
      "i : 10\n"
     ]
    }
   ],
   "source": [
    "session = requests.Session()\n",
    "start_urls = []\n",
    "c = []\n",
    "d = []\n",
    "n = []\n",
    "for i in range(9,11):\n",
    "    print('i :',i)\n",
    "    for j in range(1,50):        \n",
    "        r = session.get('https://www.hespress.com/archive/2019/'+str(i)+'/index.'+str(j)+'html', allow_redirects=False)\n",
    "        soup = BeautifulSoup(r.text)\n",
    "        links = soup.findAll('h2')\n",
    "        for link in links:\n",
    "            start_urls.append('https://www.hespress.com'+link.a['href'])\n",
    " "
   ]
  },
  {
   "cell_type": "markdown",
   "metadata": {},
   "source": [
    "# Show Links and segmenter comment , profil et date\n"
   ]
  },
  {
   "cell_type": "code",
   "execution_count": 6,
   "metadata": {
    "scrolled": false
   },
   "outputs": [],
   "source": [
    "for link in start_urls:    \n",
    "    r = session.get(link, allow_redirects=False)\n",
    "    soup = BeautifulSoup(r.text)\n",
    "    cmnts = soup.findAll('div',{'class':'comment_body'})\n",
    "    for cmnt in cmnts:\n",
    "        c.append(cmnt.find('div',{'class':'comment_text'}).text)\n",
    "        d.append(cmnt.find('span').text)\n",
    "        n.append(cmnt.find('strong'))\n",
    " "
   ]
  },
  {
   "cell_type": "code",
   "execution_count": 7,
   "metadata": {},
   "outputs": [
    {
     "data": {
      "text/html": [
       "<div>\n",
       "<style scoped>\n",
       "    .dataframe tbody tr th:only-of-type {\n",
       "        vertical-align: middle;\n",
       "    }\n",
       "\n",
       "    .dataframe tbody tr th {\n",
       "        vertical-align: top;\n",
       "    }\n",
       "\n",
       "    .dataframe thead th {\n",
       "        text-align: right;\n",
       "    }\n",
       "</style>\n",
       "<table border=\"1\" class=\"dataframe\">\n",
       "  <thead>\n",
       "    <tr style=\"text-align: right;\">\n",
       "      <th></th>\n",
       "      <th>comments</th>\n",
       "      <th>date</th>\n",
       "      <th>name</th>\n",
       "    </tr>\n",
       "  </thead>\n",
       "  <tbody>\n",
       "    <tr>\n",
       "      <th>0</th>\n",
       "      <td>\\nLe Maroc doit reconstruire ou restrecturer l...</td>\n",
       "      <td>الأحد 01 شتنبر 2019 - 01:43</td>\n",
       "      <td>None</td>\n",
       "    </tr>\n",
       "    <tr>\n",
       "      <th>1</th>\n",
       "      <td>\\nأرجو أن يجد المقال آذان صاغية ، شكرآ الاستاذ...</td>\n",
       "      <td>الأحد 01 شتنبر 2019 - 11:20</td>\n",
       "      <td>None</td>\n",
       "    </tr>\n",
       "    <tr>\n",
       "      <th>2</th>\n",
       "      <td>\\nيا أخي أكيد وانت المقيم في كندا انك تعرف الب...</td>\n",
       "      <td>الأحد 01 شتنبر 2019 - 13:18</td>\n",
       "      <td>[زينون الرواقي]</td>\n",
       "    </tr>\n",
       "    <tr>\n",
       "      <th>3</th>\n",
       "      <td>\\nيتوهم من يعتقد ان الدول المانحة من السداجة ب...</td>\n",
       "      <td>الأحد 01 شتنبر 2019 - 18:49</td>\n",
       "      <td>[بدون مزايدة]</td>\n",
       "    </tr>\n",
       "    <tr>\n",
       "      <th>4</th>\n",
       "      <td>\\nيتوهم من يعتقد ان الدول المانحة من السداجة ب...</td>\n",
       "      <td>الأحد 01 شتنبر 2019 - 19:14</td>\n",
       "      <td>[بدون مزايدة]</td>\n",
       "    </tr>\n",
       "    <tr>\n",
       "      <th>...</th>\n",
       "      <td>...</td>\n",
       "      <td>...</td>\n",
       "      <td>...</td>\n",
       "    </tr>\n",
       "    <tr>\n",
       "      <th>29048</th>\n",
       "      <td>\\nوالله العظيم البارحة 05/10/2019 أردت الدخول ...</td>\n",
       "      <td>الأحد 06 أكتوبر 2019 - 20:14</td>\n",
       "      <td>None</td>\n",
       "    </tr>\n",
       "    <tr>\n",
       "      <th>29049</th>\n",
       "      <td>\\nملاعب القرب سياسة فاشلة بكل المقاييس، ولا يم...</td>\n",
       "      <td>الأحد 06 أكتوبر 2019 - 21:12</td>\n",
       "      <td>[بيت القصيد!]</td>\n",
       "    </tr>\n",
       "    <tr>\n",
       "      <th>29050</th>\n",
       "      <td>\\nتم إعلامنا بعدم الحضور للممارسة رياضة الكارط...</td>\n",
       "      <td>الأحد 06 أكتوبر 2019 - 22:10</td>\n",
       "      <td>None</td>\n",
       "    </tr>\n",
       "    <tr>\n",
       "      <th>29051</th>\n",
       "      <td>\\nليست ملاعب القرب بعين الشق هي التي تعيش هدا ...</td>\n",
       "      <td>الاثنين 07 أكتوبر 2019 - 00:48</td>\n",
       "      <td>[مواطن]</td>\n",
       "    </tr>\n",
       "    <tr>\n",
       "      <th>29052</th>\n",
       "      <td>\\nالمرجوا من سيادتكم ان تزورو إحدى الملاعب الق...</td>\n",
       "      <td>الاثنين 07 أكتوبر 2019 - 21:17</td>\n",
       "      <td>[كريم]</td>\n",
       "    </tr>\n",
       "  </tbody>\n",
       "</table>\n",
       "<p>29053 rows × 3 columns</p>\n",
       "</div>"
      ],
      "text/plain": [
       "                                                comments  \\\n",
       "0      \\nLe Maroc doit reconstruire ou restrecturer l...   \n",
       "1      \\nأرجو أن يجد المقال آذان صاغية ، شكرآ الاستاذ...   \n",
       "2      \\nيا أخي أكيد وانت المقيم في كندا انك تعرف الب...   \n",
       "3      \\nيتوهم من يعتقد ان الدول المانحة من السداجة ب...   \n",
       "4      \\nيتوهم من يعتقد ان الدول المانحة من السداجة ب...   \n",
       "...                                                  ...   \n",
       "29048  \\nوالله العظيم البارحة 05/10/2019 أردت الدخول ...   \n",
       "29049  \\nملاعب القرب سياسة فاشلة بكل المقاييس، ولا يم...   \n",
       "29050  \\nتم إعلامنا بعدم الحضور للممارسة رياضة الكارط...   \n",
       "29051  \\nليست ملاعب القرب بعين الشق هي التي تعيش هدا ...   \n",
       "29052  \\nالمرجوا من سيادتكم ان تزورو إحدى الملاعب الق...   \n",
       "\n",
       "                                 date             name  \n",
       "0         الأحد 01 شتنبر 2019 - 01:43             None  \n",
       "1         الأحد 01 شتنبر 2019 - 11:20             None  \n",
       "2         الأحد 01 شتنبر 2019 - 13:18  [زينون الرواقي]  \n",
       "3         الأحد 01 شتنبر 2019 - 18:49    [بدون مزايدة]  \n",
       "4         الأحد 01 شتنبر 2019 - 19:14    [بدون مزايدة]  \n",
       "...                               ...              ...  \n",
       "29048    الأحد 06 أكتوبر 2019 - 20:14             None  \n",
       "29049    الأحد 06 أكتوبر 2019 - 21:12    [بيت القصيد!]  \n",
       "29050    الأحد 06 أكتوبر 2019 - 22:10             None  \n",
       "29051  الاثنين 07 أكتوبر 2019 - 00:48          [مواطن]  \n",
       "29052  الاثنين 07 أكتوبر 2019 - 21:17           [كريم]  \n",
       "\n",
       "[29053 rows x 3 columns]"
      ]
     },
     "execution_count": 7,
     "metadata": {},
     "output_type": "execute_result"
    }
   ],
   "source": [
    "df = pd.DataFrame({'comments':c ,'date' : d ,'name':n })\n",
    "df.to_csv(\"hespresse_training_1.csv\", index=False)  \n",
    "df"
   ]
  },
  {
   "cell_type": "markdown",
   "metadata": {},
   "source": [
    "# Import Cleaning packages"
   ]
  },
  {
   "cell_type": "code",
   "execution_count": 8,
   "metadata": {},
   "outputs": [],
   "source": [
    "from  nltk.tokenize import RegexpTokenizer\n",
    "from nltk.corpus import stopwords\n",
    "from nltk.stem.porter import PorterStemmer\n",
    "\n",
    "\n",
    "stemmer = PorterStemmer()\n",
    "stopwords_ar = stopwords.words('arabic')\n",
    "stopwords_fr = stopwords.words('french')\n",
    "stopWordsAr2=['ان','انا','اني','الى','ام','اما','لان','او','هذا','هذه','حتى','كان','انا','ا','الا','و','فقط','اي','فهي','نفس','قبل','داخل','وفي','انه','التي','على','من','ف','هدا','تم','الان','وعلى','a']\n",
    "tokenizer = RegexpTokenizer(r'\\w+')\n",
    "#tokens = tokenizer.tokenize(texts)\n",
    "#print(\"List of tokens : \\n\", tokens)"
   ]
  },
  {
   "cell_type": "code",
   "execution_count": 9,
   "metadata": {},
   "outputs": [],
   "source": [
    "import csv \n",
    "words=[]\n",
    "with open('hespresse_training_1.csv', 'r', encoding=\"utf8\") as file:\n",
    "         reader = csv.reader(file) \n",
    "         for row in reader:\n",
    "            \n",
    "            tokens = tokenizer.tokenize(row[0])\n",
    "            \n",
    "            tokens_clean = [t for t in tokens if t not in stopwords_ar]\n",
    "            stems_clean = [t for t in tokens_clean if t not in stopwords_fr]\n",
    "            stemss = [t for t in stems_clean if t not in stopWordsAr2]           \n",
    "            \n",
    "            stems = [stemmer.stem(t) for t in stemss]\n",
    "            for i in stems:\n",
    "                words.append(i)\n"
   ]
  },
  {
   "cell_type": "code",
   "execution_count": 37,
   "metadata": {},
   "outputs": [
    {
     "data": {
      "text/html": [
       "<div>\n",
       "<style scoped>\n",
       "    .dataframe tbody tr th:only-of-type {\n",
       "        vertical-align: middle;\n",
       "    }\n",
       "\n",
       "    .dataframe tbody tr th {\n",
       "        vertical-align: top;\n",
       "    }\n",
       "\n",
       "    .dataframe thead th {\n",
       "        text-align: right;\n",
       "    }\n",
       "</style>\n",
       "<table border=\"1\" class=\"dataframe\">\n",
       "  <thead>\n",
       "    <tr style=\"text-align: right;\">\n",
       "      <th></th>\n",
       "      <th>words</th>\n",
       "    </tr>\n",
       "  </thead>\n",
       "  <tbody>\n",
       "    <tr>\n",
       "      <th>0</th>\n",
       "      <td>comment</td>\n",
       "    </tr>\n",
       "    <tr>\n",
       "      <th>1</th>\n",
       "      <td>Le</td>\n",
       "    </tr>\n",
       "    <tr>\n",
       "      <th>2</th>\n",
       "      <td>maroc</td>\n",
       "    </tr>\n",
       "    <tr>\n",
       "      <th>3</th>\n",
       "      <td>doit</td>\n",
       "    </tr>\n",
       "    <tr>\n",
       "      <th>4</th>\n",
       "      <td>reconstruir</td>\n",
       "    </tr>\n",
       "    <tr>\n",
       "      <th>...</th>\n",
       "      <td>...</td>\n",
       "    </tr>\n",
       "    <tr>\n",
       "      <th>1059362</th>\n",
       "      <td>سيدي</td>\n",
       "    </tr>\n",
       "    <tr>\n",
       "      <th>1059363</th>\n",
       "      <td>اعمر</td>\n",
       "    </tr>\n",
       "    <tr>\n",
       "      <th>1059364</th>\n",
       "      <td>احد</td>\n",
       "    </tr>\n",
       "    <tr>\n",
       "      <th>1059365</th>\n",
       "      <td>المحتلين</td>\n",
       "    </tr>\n",
       "    <tr>\n",
       "      <th>1059366</th>\n",
       "      <td>وشكرا</td>\n",
       "    </tr>\n",
       "  </tbody>\n",
       "</table>\n",
       "<p>1059367 rows × 1 columns</p>\n",
       "</div>"
      ],
      "text/plain": [
       "               words\n",
       "0            comment\n",
       "1                 Le\n",
       "2              maroc\n",
       "3               doit\n",
       "4        reconstruir\n",
       "...              ...\n",
       "1059362         سيدي\n",
       "1059363         اعمر\n",
       "1059364          احد\n",
       "1059365     المحتلين\n",
       "1059366        وشكرا\n",
       "\n",
       "[1059367 rows x 1 columns]"
      ]
     },
     "execution_count": 37,
     "metadata": {},
     "output_type": "execute_result"
    }
   ],
   "source": [
    "dff = pd.DataFrame({\"words\" : words })\n",
    "dff.to_csv(\"stems.csv\", index=False)\n",
    "dff\n"
   ]
  },
  {
   "cell_type": "markdown",
   "metadata": {},
   "source": [
    "# Occurence"
   ]
  },
  {
   "cell_type": "code",
   "execution_count": 42,
   "metadata": {},
   "outputs": [],
   "source": [
    "wordss = words[:1000]\n"
   ]
  },
  {
   "cell_type": "code",
   "execution_count": 12,
   "metadata": {},
   "outputs": [],
   "source": [
    "wordsss = []\n",
    "for i in words[:1000]:\n",
    "    x = words.count(i)\n",
    "    if(x>700):\n",
    "        wordsss.append((i,x))"
   ]
  },
  {
   "cell_type": "code",
   "execution_count": 32,
   "metadata": {},
   "outputs": [
    {
     "name": "stdout",
     "output_type": "stream",
     "text": [
      "{('المغرب', 5197), ('ي', 759), ('العالم', 1185), ('راه', 774), ('الدول', 949), ('المغربية', 1353), ('مثل', 1212), ('رغم', 939), ('ب', 781), ('اللهم', 742), ('الله', 7506), ('المغاربة', 2038), ('ديال', 888), ('شيء', 1421), ('واحد', 1250), ('المغربي', 1517), ('وهذا', 737), ('الشعب', 2361), ('اذا', 836), ('الدين', 795), ('هاد', 1059), ('طرف', 882), ('اليوم', 929), ('العربية', 1397), ('جدا', 732), ('الدولة', 2273), ('ضد', 761), ('بدون', 1031)}\n"
     ]
    }
   ],
   "source": [
    "print(set(wordsss))\n",
    "tick_label=[]\n",
    "height=[]\n",
    "left=[]\n",
    "k=0\n",
    "for key in set(wordsss) :\n",
    "    tick_label.append(key[0])\n",
    "    height.append(key[1])\n",
    "    left.append(k)\n",
    "    k=k+1\n",
    "\n"
   ]
  },
  {
   "cell_type": "code",
   "execution_count": 33,
   "metadata": {},
   "outputs": [
    {
     "data": {
      "image/png": "[encoded data removed]",
      "text/plain": [
       "<Figure size 432x288 with 1 Axes>"
      ]
     },
     "metadata": {
      "needs_background": "light"
     },
     "output_type": "display_data"
    }
   ],
   "source": [
    "import matplotlib.pyplot as plt \n",
    "  \n",
    "# x-coordinates of left sides of bars  \n",
    "#left = [1, 2, 3, 4, 5,6] \n",
    "  \n",
    "# heights of bars \n",
    "#height = [35, 25, 12, 10, 10] \n",
    "  \n",
    "# labels for bars \n",
    "#tick_label = ['الله', 'المغرب', 'الشعب', 'الدولة', 'المغاربة'] \n",
    "  \n",
    "# plotting a bar chart \n",
    "plt.bar(left, height, tick_label = tick_label, \n",
    "        width = 0.6, color = ['red', 'green']) \n",
    "  \n",
    "# naming the x-axis \n",
    "plt.xlabel('x - axis') \n",
    "# naming the y-axis \n",
    "plt.ylabel('y - axis') \n",
    "# plot title \n",
    "plt.title('Five most popular words !') \n",
    "  \n",
    "# function to show the plot \n",
    "plt.show()        "
   ]
  },
  {
   "cell_type": "code",
   "execution_count": 34,
   "metadata": {},
   "outputs": [],
   "source": [
    "def removeWeirdChars(text):\n",
    "    weridPatterns = re.compile(\"[\"\n",
    "                               u\"\\U0001F600-\\U0001F64F\"  # emoticons\n",
    "                               u\"\\U0001F300-\\U0001F5FF\"  # symbols & pictographs\n",
    "                               u\"\\U0001F680-\\U0001F6FF\"  # transport & map symbols\n",
    "                               u\"\\U0001F1E0-\\U0001F1FF\"  # flags (iOS)\n",
    "                               u\"\\U00002702-\\U000027B0\"\n",
    "                               u\"\\U000024C2-\\U0001F251\"\n",
    "                               u\"\\U0001f926-\\U0001f937\"\n",
    "                               u'\\U00010000-\\U0010ffff'\n",
    "                               u\"\\u200d\"\n",
    "                               u\"\\u2640-\\u2642\"\n",
    "                               u\"\\u2600-\\u2B55\"\n",
    "                               u\"\\u23cf\"\n",
    "                               u\"\\u23e9\"\n",
    "                               u\"\\u231a\"\n",
    "                               u\"\\u3030\"\n",
    "                               u\"\\ufe0f\"\n",
    "                               u\"\\u2069\"\n",
    "                               u\"\\u2066\"\n",
    "                               u\"\\u200c\"\n",
    "                               u\"\\u2068\"\n",
    "                               u\"\\u2067\"\n",
    "                               \"]+\", flags=re.UNICODE)\n",
    "    return weridPatterns.sub(r'', text)"
   ]
  },
  {
   "cell_type": "code",
   "execution_count": 35,
   "metadata": {},
   "outputs": [
    {
     "name": "stderr",
     "output_type": "stream",
     "text": [
      "IOPub data rate exceeded.\n",
      "The notebook server will temporarily stop sending output\n",
      "to the client in order to avoid crashing it.\n",
      "To change this limit, set the config variable\n",
      "`--NotebookApp.iopub_data_rate_limit`.\n",
      "\n",
      "Current values:\n",
      "NotebookApp.iopub_data_rate_limit=1000000.0 (bytes/sec)\n",
      "NotebookApp.rate_limit_window=3.0 (secs)\n",
      "\n"
     ]
    }
   ],
   "source": [
    "f = open('stems.csv', 'r', encoding='utf-8')\n",
    "data = f.read()\n",
    "t = removeWeirdChars(data)\n",
    "\n",
    "print(t)"
   ]
  },
  {
   "cell_type": "code",
   "execution_count": 36,
   "metadata": {},
   "outputs": [
    {
     "data": {
      "text/plain": [
       "<function matplotlib.pyplot.show(*args, **kw)>"
      ]
     },
     "execution_count": 36,
     "metadata": {},
     "output_type": "execute_result"
    },
    {
     "data": {
      "image/png": "[encoded data removed]",
      "text/plain": [
       "<Figure size 432x288 with 1 Axes>"
      ]
     },
     "metadata": {
      "needs_background": "light"
     },
     "output_type": "display_data"
    }
   ],
   "source": [
    "from bidi.algorithm import get_display\n",
    "import os\n",
    "import matplotlib.pyplot as plt\n",
    "from wordcloud import WordCloud\n",
    "import arabic_reshaper  as arr\n",
    "ar = arr.reshape(t)\n",
    "\n",
    "#f = open('hespresse_training_1.csv', 'r', encoding='utf-8')\n",
    "ar = get_display(ar) # add this line\n",
    "#print(data)\n",
    "WordCloud = WordCloud(font_path='arial', background_color='white',\n",
    "                  mode='RGB', width=3000, height=1500 ,max_words=50).generate(ar)\n",
    "plt.title(\"WordCloud of hespresse  \")\n",
    "plt.imshow(WordCloud)\n",
    "plt.axis(\"off\")\n",
    "plt.show"
   ]
  },
  {
   "cell_type": "code",
   "execution_count": null,
   "metadata": {},
   "outputs": [],
   "source": []
  }
 ],
 "metadata": {
  "kernelspec": {
   "display_name": "Python 3",
   "language": "python",
   "name": "python3"
  },
  "language_info": {
   "codemirror_mode": {
    "name": "ipython",
    "version": 3
   },
   "file_extension": ".py",
   "mimetype": "text/x-python",
   "name": "python",
   "nbconvert_exporter": "python",
   "pygments_lexer": "ipython3",
   "version": "3.7.1"
  }
 },
 "nbformat": 4,
 "nbformat_minor": 2
}
