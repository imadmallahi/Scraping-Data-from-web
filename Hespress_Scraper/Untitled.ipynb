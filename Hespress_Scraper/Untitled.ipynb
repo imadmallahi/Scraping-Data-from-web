{
 "cells": [
  {
   "cell_type": "code",
   "execution_count": 5,
   "metadata": {},
   "outputs": [],
   "source": [
    "from  nltk.tokenize import RegexpTokenizer\n",
    "from nltk.corpus import stopwords\n",
    "from nltk.stem.porter import PorterStemmer\n",
    "\n",
    "stemmer = PorterStemmer()\n",
    "stopwords_en = stopwords.words('english')\n",
    "stopwords_ar = stopwords.words('arabic')\n",
    "stopwords_fr = stopwords.words('french')\n",
    "tokenizer = RegexpTokenizer(r'\\w+')\n",
    "#tokens = tokenizer.tokenize(texts)\n",
    "#print(\"List of tokens : \\n\", tokens)"
   ]
  },
  {
   "cell_type": "code",
   "execution_count": 6,
   "metadata": {},
   "outputs": [],
   "source": [
    "from bs4 import BeautifulSoup\n",
    "import requests\n",
    "import re\n",
    "from pandas import DataFrame\n",
    "import pandas as pd"
   ]
  },
  {
   "cell_type": "code",
   "execution_count": 7,
   "metadata": {},
   "outputs": [],
   "source": [
    "readerr=pd.read_csv('hespresse_training_1.csv')"
   ]
  },
  {
   "cell_type": "code",
   "execution_count": 8,
   "metadata": {},
   "outputs": [],
   "source": [
    "import re\n",
    "import string\n",
    "words=[]\n",
    "for roww in readerr['comments']:\n",
    "    # tokenization \n",
    "    tokenizer = RegexpTokenizer(r'\\w+')\n",
    "    row= roww.lower() \n",
    "    exclude = set(string.punctuation)\n",
    "    n = filter(lambda x: x in string.whitespace or x not in string.printable, row)   \n",
    "    tokens = tokenizer.tokenize(n.decode('utf-8-sig'))\n",
    "    print(\"List of tokens : \\n\", tokens)\n",
    "    tokens_clean = [t for t in tokens if t not in stopwords_ar]\n",
    "    print(\"\\n \\n\",tokens_clean)\n",
    "    #stems = [stemmer.stem(t) for t in tokens_clean]\n",
    "    #print(\"\\n  \\n \", stems)\n",
    "    for i in tokens_clean:\n",
    "        words.append(i)\n",
    "        "
   ]
  },
  {
   "cell_type": "code",
   "execution_count": null,
   "metadata": {},
   "outputs": [],
   "source": []
  },
  {
   "cell_type": "code",
   "execution_count": null,
   "metadata": {},
   "outputs": [],
   "source": []
  }
 ],
 "metadata": {
  "kernelspec": {
   "display_name": "Python 3",
   "language": "python",
   "name": "python3"
  },
  "language_info": {
   "codemirror_mode": {
    "name": "ipython",
    "version": 3
   },
   "file_extension": ".py",
   "mimetype": "text/x-python",
   "name": "python",
   "nbconvert_exporter": "python",
   "pygments_lexer": "ipython3",
   "version": "3.7.1"
  }
 },
 "nbformat": 4,
 "nbformat_minor": 2
}
